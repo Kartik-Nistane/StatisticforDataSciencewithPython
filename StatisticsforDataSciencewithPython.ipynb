{
  "metadata": {
    "kernelspec": {
      "name": "",
      "display_name": ""
    },
    "language_info": {
      "name": ""
    }
  },
  "nbformat_minor": 5,
  "nbformat": 4,
  "cells": [
    {
      "id": "a64ce002-f1c4-4b15-92c2-d144133f2289",
      "cell_type": "markdown",
      "source": "Statistics for Data Science with Python ",
      "metadata": {}
    },
    {
      "id": "290650e0-969f-4ccf-8de7-381130255204",
      "cell_type": "code",
      "source": "import pandas as pd\nimport numpy as np\nimport matplotlib.pyplot as plt\nimport seaborn as sns\nfrom scipy import stats\nimport statsmodels.api as sm\nfrom statsmodels.formula.api import ols",
      "metadata": {
        "trusted": true
      },
      "outputs": [],
      "execution_count": null
    },
    {
      "id": "875b018f-8968-43b7-9db5-159289825c79",
      "cell_type": "code",
      "source": "\n# Load the dataset\nfrom sklearn.datasets import load_boston\nboston = load_boston()\n\n# Create DataFrame\ndf = pd.DataFrame(boston.data, columns=boston.feature_names)\ndf['MEDV'] = boston.target\n\n# Task 1: Dataset Familiarity\nprint(df.info())\nprint(df.describe())\n\n",
      "metadata": {
        "trusted": true
      },
      "outputs": [],
      "execution_count": null
    },
    {
      "id": "61a73ebd-7dd9-4d4d-b1ca-0d173eaf5289",
      "cell_type": "code",
      "source": "# Task 2: Descriptive Statistics and Visualizations\n\n# Boxplot for MEDV\nplt.figure(figsize=(6, 4))\nsns.boxplot(y=df['MEDV'])\nplt.title('Boxplot of Median Value of Homes')\nplt.ylabel('MEDV ($1000s)')\nplt.show()\n\n# Bar plot for CHAS\nplt.figure(figsize=(6, 4))\ndf['CHAS'].value_counts().plot(kind='bar')\nplt.title('Bar Plot of Charles River Variable')\nplt.xlabel('Bounds Charles River (1 = Yes, 0 = No)')\nplt.ylabel('Number of Tracts')\nplt.show()\n\n# Boxplot of MEDV vs AGE groups\nage_bins = pd.cut(df['AGE'], bins=[0, 35, 70, 100], labels=['<=35', '36-70', '>70'])\ndf['AGE_GROUP'] = age_bins\nplt.figure(figsize=(8, 5))\nsns.boxplot(x='AGE_GROUP', y='MEDV', data=df)\nplt.title('MEDV by Age Group')\nplt.xlabel('Age Group')\nplt.ylabel('MEDV ($1000s)')\nplt.show()\n\n# Scatter plot: NOX vs INDUS\nplt.figure(figsize=(6, 4))\nsns.scatterplot(x='INDUS', y='NOX', data=df)\nplt.title('NOX vs INDUS')\nplt.xlabel('Non-retail business acres per town (INDUS)')\nplt.ylabel('Nitric Oxides Concentration (NOX)')\nplt.show()\n\n# Histogram for PTRATIO\nplt.figure(figsize=(6, 4))\ndf['PTRATIO'].hist(bins=15)\nplt.title('Histogram of Pupil-Teacher Ratio')\nplt.xlabel('Pupil-Teacher Ratio')\nplt.ylabel('Frequency')\nplt.show()\n",
      "metadata": {
        "trusted": true
      },
      "outputs": [],
      "execution_count": null
    },
    {
      "id": "e61130ce-2ab3-4388-979a-0464aa89194b",
      "cell_type": "markdown",
      "source": "# Task 3: Statistical Tests\n\n# T-test: MEDV for CHAS\nchas_1 = df[df['CHAS'] == 1]['MEDV']\nchas_0 = df[df['CHAS'] == 0]['MEDV']\nt_stat, p_val = stats.ttest_ind(chas_1, chas_0)\nprint(\"T-test: MEDV ~ CHAS\")\nprint(f\"t-statistic = {t_stat:.4f}, p-value = {p_val:.4f}\")\nif p_val < 0.05:\n    print(\"Conclusion: Significant difference in MEDV for CHAS groups\")\nelse:\n    print(\"Conclusion: No significant difference in MEDV for CHAS groups\")\n\n# ANOVA: MEDV ~ AGE_GROUP\nanova_model = ols('MEDV ~ AGE_GROUP', data=df).fit()\nanova_table = sm.stats.anova_lm(anova_model, typ=2)\nprint(\"\\nANOVA: MEDV ~ AGE_GROUP\")\nprint(anova_table)\nif anova_table['PR(>F)'][0] < 0.05:\n    print(\"Conclusion: Significant difference in MEDV across AGE groups\")\nelse:\n    print(\"Conclusion: No significant difference in MEDV across AGE groups\")\n\n# Pearson Correlation: NOX vs INDUS\ncorr, p_value = stats.pearsonr(df['NOX'], df['INDUS'])\nprint(\"\\nPearson Correlation: NOX vs INDUS\")\nprint(f\"Correlation = {corr:.4f}, p-value = {p_value:.4f}\")\nif p_value < 0.05:\n    print(\"Conclusion: Significant relationship between NOX and INDUS\")\nelse:\n    print(\"Conclusion: No significant relationship between NOX and INDUS\")\n\n# Regression: DIS on MEDV\nX = sm.add_constant(df['DIS'])\nmodel = sm.OLS(df['MEDV'], X).fit()\nprint(\"\\nRegression Analysis: MEDV ~ DIS\")\nprint(model.summary())\nif model.pvalues['DIS'] < 0.05:\n    print(\"Conclusion: DIS has a significant impact on MEDV\")\nelse:\n    print(\"Conclusion: DIS has no significant impact on MEDV\")\n",
      "metadata": {}
    }
  ]
}